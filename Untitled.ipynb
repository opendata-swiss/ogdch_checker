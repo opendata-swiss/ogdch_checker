{
 "cells": [
  {
   "cell_type": "code",
   "execution_count": 2,
   "id": "a2ed8f80",
   "metadata": {},
   "outputs": [],
   "source": [
    "import pandas as pd\n"
   ]
  },
  {
   "cell_type": "code",
   "execution_count": 27,
   "id": "92ebe9db",
   "metadata": {},
   "outputs": [],
   "source": [
    "df = pd.read_csv('shaclchecker.csv')"
   ]
  },
  {
   "cell_type": "code",
   "execution_count": 24,
   "id": "5cdca6ba",
   "metadata": {},
   "outputs": [
    {
     "data": {
      "text/plain": [
       "Index(['contact_name', 'organization_name', 'dataset_title', 'dataset_url',\n",
       "       'dataset_rdf', 'dataset_ttl', 'node', 'property', 'value', 'error_msg',\n",
       "       'pkg_type', 'checker_type', 'template'],\n",
       "      dtype='object')"
      ]
     },
     "execution_count": 24,
     "metadata": {},
     "output_type": "execute_result"
    }
   ],
   "source": [
    "df.columns"
   ]
  },
  {
   "cell_type": "code",
   "execution_count": 33,
   "id": "6bef4534",
   "metadata": {},
   "outputs": [],
   "source": [
    "df2 = df.filter(['property', 'value', 'error_msg'])"
   ]
  },
  {
   "cell_type": "code",
   "execution_count": 34,
   "id": "86427d75",
   "metadata": {},
   "outputs": [
    {
     "data": {
      "text/html": [
       "<div>\n",
       "<style scoped>\n",
       "    .dataframe tbody tr th:only-of-type {\n",
       "        vertical-align: middle;\n",
       "    }\n",
       "\n",
       "    .dataframe tbody tr th {\n",
       "        vertical-align: top;\n",
       "    }\n",
       "\n",
       "    .dataframe thead th {\n",
       "        text-align: right;\n",
       "    }\n",
       "</style>\n",
       "<table border=\"1\" class=\"dataframe\">\n",
       "  <thead>\n",
       "    <tr style=\"text-align: right;\">\n",
       "      <th></th>\n",
       "      <th>property</th>\n",
       "      <th>value</th>\n",
       "      <th>error_msg</th>\n",
       "    </tr>\n",
       "  </thead>\n",
       "  <tbody>\n",
       "    <tr>\n",
       "      <th>0</th>\n",
       "      <td>dct:accrualPeriodicity</td>\n",
       "      <td>http://purl.org/cld/freq/completelyIrregular</td>\n",
       "      <td>The frequency is expected from a controlled vo...</td>\n",
       "    </tr>\n",
       "    <tr>\n",
       "      <th>1</th>\n",
       "      <td>dct:accrualPeriodicity</td>\n",
       "      <td>http://purl.org/cld/freq/completelyIrregular</td>\n",
       "      <td>The frequency is expected from a controlled vo...</td>\n",
       "    </tr>\n",
       "    <tr>\n",
       "      <th>2</th>\n",
       "      <td>dct:accrualPeriodicity</td>\n",
       "      <td>http://purl.org/cld/freq/completelyIrregular</td>\n",
       "      <td>The frequency is expected from a controlled vo...</td>\n",
       "    </tr>\n",
       "    <tr>\n",
       "      <th>3</th>\n",
       "      <td>dct:accrualPeriodicity</td>\n",
       "      <td>http://purl.org/cld/freq/completelyIrregular</td>\n",
       "      <td>The frequency is expected from a controlled vo...</td>\n",
       "    </tr>\n",
       "    <tr>\n",
       "      <th>4</th>\n",
       "      <td>dct:accrualPeriodicity</td>\n",
       "      <td>http://purl.org/cld/freq/completelyIrregular</td>\n",
       "      <td>The frequency is expected from a controlled vo...</td>\n",
       "    </tr>\n",
       "  </tbody>\n",
       "</table>\n",
       "</div>"
      ],
      "text/plain": [
       "                 property                                         value  \\\n",
       "0  dct:accrualPeriodicity  http://purl.org/cld/freq/completelyIrregular   \n",
       "1  dct:accrualPeriodicity  http://purl.org/cld/freq/completelyIrregular   \n",
       "2  dct:accrualPeriodicity  http://purl.org/cld/freq/completelyIrregular   \n",
       "3  dct:accrualPeriodicity  http://purl.org/cld/freq/completelyIrregular   \n",
       "4  dct:accrualPeriodicity  http://purl.org/cld/freq/completelyIrregular   \n",
       "\n",
       "                                           error_msg  \n",
       "0  The frequency is expected from a controlled vo...  \n",
       "1  The frequency is expected from a controlled vo...  \n",
       "2  The frequency is expected from a controlled vo...  \n",
       "3  The frequency is expected from a controlled vo...  \n",
       "4  The frequency is expected from a controlled vo...  "
      ]
     },
     "execution_count": 34,
     "metadata": {},
     "output_type": "execute_result"
    }
   ],
   "source": [
    "df2.head()"
   ]
  },
  {
   "cell_type": "code",
   "execution_count": 35,
   "id": "f56541c2",
   "metadata": {},
   "outputs": [
    {
     "name": "stdout",
     "output_type": "stream",
     "text": [
      "<class 'pandas.core.frame.DataFrame'>\n",
      "RangeIndex: 72 entries, 0 to 71\n",
      "Data columns (total 3 columns):\n",
      " #   Column     Non-Null Count  Dtype \n",
      "---  ------     --------------  ----- \n",
      " 0   property   72 non-null     object\n",
      " 1   value      45 non-null     object\n",
      " 2   error_msg  72 non-null     object\n",
      "dtypes: object(3)\n",
      "memory usage: 1.8+ KB\n"
     ]
    }
   ],
   "source": [
    "df2.info()"
   ]
  },
  {
   "cell_type": "code",
   "execution_count": 36,
   "id": "cebe1cb5",
   "metadata": {},
   "outputs": [
    {
     "data": {
      "text/html": [
       "<div>\n",
       "<style scoped>\n",
       "    .dataframe tbody tr th:only-of-type {\n",
       "        vertical-align: middle;\n",
       "    }\n",
       "\n",
       "    .dataframe tbody tr th {\n",
       "        vertical-align: top;\n",
       "    }\n",
       "\n",
       "    .dataframe thead th {\n",
       "        text-align: right;\n",
       "    }\n",
       "</style>\n",
       "<table border=\"1\" class=\"dataframe\">\n",
       "  <thead>\n",
       "    <tr style=\"text-align: right;\">\n",
       "      <th></th>\n",
       "      <th>property</th>\n",
       "      <th>value</th>\n",
       "      <th>error_msg</th>\n",
       "    </tr>\n",
       "  </thead>\n",
       "  <tbody>\n",
       "    <tr>\n",
       "      <th>count</th>\n",
       "      <td>72</td>\n",
       "      <td>45</td>\n",
       "      <td>72</td>\n",
       "    </tr>\n",
       "    <tr>\n",
       "      <th>unique</th>\n",
       "      <td>2</td>\n",
       "      <td>1</td>\n",
       "      <td>2</td>\n",
       "    </tr>\n",
       "    <tr>\n",
       "      <th>top</th>\n",
       "      <td>dct:accrualPeriodicity</td>\n",
       "      <td>http://purl.org/cld/freq/completelyIrregular</td>\n",
       "      <td>The frequency is expected from a controlled vo...</td>\n",
       "    </tr>\n",
       "    <tr>\n",
       "      <th>freq</th>\n",
       "      <td>45</td>\n",
       "      <td>45</td>\n",
       "      <td>45</td>\n",
       "    </tr>\n",
       "  </tbody>\n",
       "</table>\n",
       "</div>"
      ],
      "text/plain": [
       "                      property                                         value  \\\n",
       "count                       72                                            45   \n",
       "unique                       2                                             1   \n",
       "top     dct:accrualPeriodicity  http://purl.org/cld/freq/completelyIrregular   \n",
       "freq                        45                                            45   \n",
       "\n",
       "                                                error_msg  \n",
       "count                                                  72  \n",
       "unique                                                  2  \n",
       "top     The frequency is expected from a controlled vo...  \n",
       "freq                                                   45  "
      ]
     },
     "execution_count": 36,
     "metadata": {},
     "output_type": "execute_result"
    }
   ],
   "source": [
    "df2.describe()"
   ]
  },
  {
   "cell_type": "code",
   "execution_count": 37,
   "id": "3860ff34",
   "metadata": {},
   "outputs": [],
   "source": [
    "dg = df.groupby(['error_msg']).size().reset_index().rename(columns={0: 'count'})"
   ]
  },
  {
   "cell_type": "code",
   "execution_count": 38,
   "id": "03c867f1",
   "metadata": {},
   "outputs": [
    {
     "data": {
      "text/html": [
       "<div>\n",
       "<style scoped>\n",
       "    .dataframe tbody tr th:only-of-type {\n",
       "        vertical-align: middle;\n",
       "    }\n",
       "\n",
       "    .dataframe tbody tr th {\n",
       "        vertical-align: top;\n",
       "    }\n",
       "\n",
       "    .dataframe thead th {\n",
       "        text-align: right;\n",
       "    }\n",
       "</style>\n",
       "<table border=\"1\" class=\"dataframe\">\n",
       "  <thead>\n",
       "    <tr style=\"text-align: right;\">\n",
       "      <th></th>\n",
       "      <th>error_msg</th>\n",
       "      <th>count</th>\n",
       "    </tr>\n",
       "  </thead>\n",
       "  <tbody>\n",
       "    <tr>\n",
       "      <th>0</th>\n",
       "      <td>Please add a description for your dataset.</td>\n",
       "      <td>27</td>\n",
       "    </tr>\n",
       "    <tr>\n",
       "      <th>1</th>\n",
       "      <td>The frequency is expected from a controlled vo...</td>\n",
       "      <td>45</td>\n",
       "    </tr>\n",
       "  </tbody>\n",
       "</table>\n",
       "</div>"
      ],
      "text/plain": [
       "                                           error_msg  count\n",
       "0         Please add a description for your dataset.     27\n",
       "1  The frequency is expected from a controlled vo...     45"
      ]
     },
     "execution_count": 38,
     "metadata": {},
     "output_type": "execute_result"
    }
   ],
   "source": [
    "dg.head()\n"
   ]
  },
  {
   "cell_type": "code",
   "execution_count": null,
   "id": "41870455",
   "metadata": {},
   "outputs": [],
   "source": []
  }
 ],
 "metadata": {
  "kernelspec": {
   "display_name": "Python 3 (ipykernel)",
   "language": "python",
   "name": "python3"
  },
  "language_info": {
   "codemirror_mode": {
    "name": "ipython",
    "version": 3
   },
   "file_extension": ".py",
   "mimetype": "text/x-python",
   "name": "python",
   "nbconvert_exporter": "python",
   "pygments_lexer": "ipython3",
   "version": "3.8.10"
  }
 },
 "nbformat": 4,
 "nbformat_minor": 5
}
